{
 "cells": [
  {
   "cell_type": "markdown",
   "metadata": {},
   "source": [
    "### 1. Imports, constants, etc."
   ]
  },
  {
   "cell_type": "code",
   "execution_count": 1,
   "metadata": {},
   "outputs": [],
   "source": [
    "import os\n",
    "import pandas as pd\n",
    "\n",
    "INPUT_DIR = \"input\"\n",
    "INPUT_DIR_EVVET = os.path.join(INPUT_DIR, 'evvet')\n",
    "\n",
    "OUTPUT_DIR = \"output\"\n",
    "OUTPUT_EVVET_FILE = os.path.join(OUTPUT_DIR, 'evvet_master.csv')\n",
    "\n",
    "OUTPUT_EVVET_META = os.path.join(OUTPUT_DIR, \"evvet_meta.json\")"
   ]
  },
  {
   "cell_type": "markdown",
   "metadata": {},
   "source": [
    "### 2. Fetch, merge, clean, output."
   ]
  },
  {
   "cell_type": "code",
   "execution_count": 2,
   "metadata": {},
   "outputs": [
    {
     "name": "stdout",
     "output_type": "stream",
     "text": [
      "Last updated:\n",
      "July 13, 2024 20:49:37\n",
      "\n",
      "Processing file: 2021.csv...\n",
      "Number of rows: 383\n",
      "\n",
      "Processing file: 2023.csv...\n",
      "Number of rows: 5133\n",
      "\n",
      "Processing file: 2022.csv...\n",
      "Number of rows: 3170\n",
      "\n",
      "Processing file: 2024.csv...\n",
      "Number of rows: 8293\n",
      "\n",
      "Master file compiled!\n",
      "\n",
      "Total cases: 16979\n",
      "Animals affected: 17807\n",
      "Animals treated: 20660.0\n",
      "Animals died: 1910.0\n",
      "\n",
      "output/evvet_meta.json updated!\n"
     ]
    }
   ],
   "source": [
    "import datetime \n",
    "import json\n",
    "import datetime\n",
    "\n",
    "def load_and_merge_evvet_data():\n",
    "    current_datetime = datetime.datetime.now(datetime.timezone.utc)\n",
    "    last_updated = current_datetime.strftime(\"%B %d, %Y %H:%M:%S\")\n",
    "    print(f\"Last updated:\\n{last_updated}\")\n",
    "\n",
    "    file_pattern = '.csv'\n",
    "\n",
    "    # Delete the output file if it exists\n",
    "    if os.path.exists(OUTPUT_EVVET_FILE):\n",
    "        os.remove(OUTPUT_EVVET_FILE)\n",
    "\n",
    "    # List all CSV files in the input directory\n",
    "    csv_files = [f for f in os.listdir(INPUT_DIR_EVVET) if f.endswith(file_pattern)]\n",
    "    \n",
    "    df_list = []\n",
    "    for file in csv_files:\n",
    "        df = pd.read_csv(os.path.join(INPUT_DIR_EVVET, file))\n",
    "        df.dropna(how='all', inplace=True)\n",
    "        print(f\"\\nProcessing file: {file}...\")\n",
    "        print(f\"Number of rows: {len(df)}\")\n",
    "        df_list.append(df)\n",
    "    \n",
    "    # Concatenate all dataframes into one\n",
    "    master_df = pd.concat(df_list, ignore_index=True)\n",
    "    master_df.drop_duplicates(inplace=True)\n",
    "\n",
    "    # Reorder columns to move 'AER form' to the last index if it exists in the dataframe\n",
    "    if 'AER form' in master_df.columns:\n",
    "        cols = master_df.columns.tolist()\n",
    "        cols.append(cols.pop(cols.index('AER form')))\n",
    "        master_df = master_df[cols]\n",
    "\n",
    "    # Move 'Drug' column to the end if it exists in the dataframe\n",
    "    if 'Drug' in master_df.columns:\n",
    "        cols = master_df.columns.tolist()\n",
    "        cols.append(cols.pop(cols.index('Drug')))\n",
    "        master_df = master_df[cols]\n",
    "\n",
    "    # Move 'Received date' column to the first index if it exists in the dataframe\n",
    "    if 'Received date' in master_df.columns:\n",
    "        cols = master_df.columns.tolist()\n",
    "        cols.insert(0, cols.pop(cols.index('Received date')))\n",
    "        master_df = master_df[cols]\n",
    "\n",
    "    # Sort the dataframe by 'Received date'\n",
    "    master_df.sort_values(by='Received date', inplace=True)\n",
    "\n",
    "    # Drop any empty rows in master_df\n",
    "    master_df.dropna(how='all', inplace=True)\n",
    "\n",
    "    # Change Received Date column's format\n",
    "    master_df['Received date'] = pd.to_datetime(master_df['Received date'])\n",
    "\n",
    "    # Check for any rows where dates couldn't be parsed\n",
    "    if master_df['Received date'].isna().any():\n",
    "        print(\"Some dates couldn't be parsed and were set to NaT\")\n",
    "\n",
    "    # Save the updated master dataframe\n",
    "    master_df.to_csv(OUTPUT_EVVET_FILE, index=False)\n",
    "    print(\"\\nMaster file compiled!\")\n",
    "\n",
    "    print()\n",
    "\n",
    "    print(f\"Total cases: {len(master_df)}\")\n",
    "    print(f\"Animals affected: {master_df['Animals affected'].sum()}\")\n",
    "    print(f\"Animals treated: {master_df['Animals treated'].sum()}\")\n",
    "    print(f\"Animals died: {master_df['Animals died'].sum()}\")\n",
    "\n",
    "    print()\n",
    "\n",
    "    meta = {\"last_updated\": current_datetime.isoformat()} \n",
    "    with open(OUTPUT_EVVET_META, \"w\") as f:\n",
    "        json.dump(meta, f)\n",
    "    print(f'{OUTPUT_EVVET_META} updated!')\n",
    "\n",
    "load_and_merge_evvet_data()\n"
   ]
  }
 ],
 "metadata": {
  "kernelspec": {
   "display_name": "base",
   "language": "python",
   "name": "python3"
  },
  "language_info": {
   "codemirror_mode": {
    "name": "ipython",
    "version": 3
   },
   "file_extension": ".py",
   "mimetype": "text/x-python",
   "name": "python",
   "nbconvert_exporter": "python",
   "pygments_lexer": "ipython3",
   "version": "3.12.3"
  }
 },
 "nbformat": 4,
 "nbformat_minor": 2
}
