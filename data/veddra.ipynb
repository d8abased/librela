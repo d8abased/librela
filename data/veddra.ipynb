{
 "cells": [
  {
   "cell_type": "markdown",
   "metadata": {},
   "source": [
    "### 1. Imports, constants, etc."
   ]
  },
  {
   "cell_type": "code",
   "execution_count": 6,
   "metadata": {},
   "outputs": [],
   "source": [
    "import os\n",
    "import pandas as pd\n",
    "\n",
    "INPUT_DIR = \"input\"\n",
    "INPUT_DIR_VEDDRA = os.path.join(INPUT_DIR, 'veddra')\n",
    "INPUT_VEDDRA_FILE = os.path.join(INPUT_DIR_VEDDRA, 'combined-veddra-list-clinical-terms-reporting-suspected-adverse-events-animals-and-humans-veterinary-medicinal-products_en.xlsx')\n",
    "\n",
    "OUTPUT_DIR = \"output\"\n",
    "OUTPUT_VEDDRA_FILE = os.path.join(OUTPUT_DIR, 'veddra.csv')"
   ]
  },
  {
   "cell_type": "markdown",
   "metadata": {},
   "source": [
    "### 2. Convert to CSV"
   ]
  },
  {
   "cell_type": "code",
   "execution_count": 10,
   "metadata": {},
   "outputs": [],
   "source": [
    "# Read the Excel file\n",
    "df = pd.read_excel(INPUT_VEDDRA_FILE)\n",
    "\n",
    "# Filter rows where 'Current Term Type' is 'A'(nimal) or 'C'(common)\n",
    "filtered_df = df[df['Current Term Type'].isin(['A', 'C'])]\n",
    "\n",
    "# Save the filtered DataFrame as a CSV file\n",
    "filtered_df.to_csv(OUTPUT_VEDDRA_FILE, index=False)"
   ]
  }
 ],
 "metadata": {
  "kernelspec": {
   "display_name": "librela",
   "language": "python",
   "name": "python3"
  },
  "language_info": {
   "codemirror_mode": {
    "name": "ipython",
    "version": 3
   },
   "file_extension": ".py",
   "mimetype": "text/x-python",
   "name": "python",
   "nbconvert_exporter": "python",
   "pygments_lexer": "ipython3",
   "version": "3.12.3"
  }
 },
 "nbformat": 4,
 "nbformat_minor": 2
}
